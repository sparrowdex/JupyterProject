{
 "cells": [
  {
   "cell_type": "markdown",
   "id": "68816bde-2e5b-4d45-8b63-02289b64a61c",
   "metadata": {},
   "source": [
    "# Data Science Tools and Ecosystem"
   ]
  },
  {
   "cell_type": "markdown",
   "id": "4cd0aee0-b1d5-4765-9191-25207bf28845",
   "metadata": {},
   "source": [
    "In this notebook, Data Science Tools and Ecosystem are summarized."
   ]
  },
  {
   "cell_type": "markdown",
   "id": "ec60a631-140d-4301-abcf-39ffc6f67be4",
   "metadata": {},
   "source": [
    "Some of the popular languages that Data Scientists use are:\n",
    "1. Python\n",
    "2. R\n",
    "3. SQL\n",
    "4. Julia"
   ]
  },
  {
   "cell_type": "markdown",
   "id": "9f18aa21-a21a-4238-a8ee-6801606939a8",
   "metadata": {},
   "source": [
    "Some of the commonly used libraries used by Data Scientists include:\n",
    "1. NumPy\n",
    "2. Pandas\n",
    "3. SciPy\n",
    "4. Matplotlib"
   ]
  },
  {
   "cell_type": "markdown",
   "id": "f458b40b-0e88-49e4-a33f-db6afcb24870",
   "metadata": {},
   "source": [
    "|Data Science Tools|\n",
    "-------------------\n",
    "|Apache Zepellin|\n",
    "|RStudio|\n",
    "|Spyder|\n",
    " "
   ]
  },
  {
   "cell_type": "markdown",
   "id": "57328322-af81-4f9d-b2f2-f0d7aaf8f602",
   "metadata": {},
   "source": [
    "### Below are a few examples of evaluating arithmetic expressions in Python"
   ]
  },
  {
   "cell_type": "code",
   "execution_count": 4,
   "id": "5db84ea3-a47a-43d2-b969-6e25d1c78754",
   "metadata": {},
   "outputs": [
    {
     "data": {
      "text/plain": [
       "17"
      ]
     },
     "execution_count": 4,
     "metadata": {},
     "output_type": "execute_result"
    }
   ],
   "source": [
    "#This a simple arithmetic expression to mutiply then add integers\n",
    "(3*4)+5"
   ]
  },
  {
   "cell_type": "code",
   "execution_count": 5,
   "id": "751e3554-81ee-4b7c-9af9-54b5851bb618",
   "metadata": {},
   "outputs": [
    {
     "data": {
      "text/plain": [
       "3.3333333333333335"
      ]
     },
     "execution_count": 5,
     "metadata": {},
     "output_type": "execute_result"
    }
   ],
   "source": [
    "#This will convert 200 minutes to hours by diving by 60\n",
    "200/60"
   ]
  },
  {
   "cell_type": "markdown",
   "id": "f359d915-2cd7-4640-b2cb-b07d5f39cc50",
   "metadata": {},
   "source": [
    "**Objectives:**\n",
    "* List the popular languages for Data Science\n",
    "* List commonly used libraries by Data Scientists\n",
    "* Create Table listing Development Environment Tools in Data Science\n",
    "* Evaluate arithmetic expressions in Python"
   ]
  },
  {
   "cell_type": "markdown",
   "id": "5253bc04-6ecf-427a-8ce1-8f51983483e5",
   "metadata": {},
   "source": [
    "## Author\n",
    "Sreeja Das"
   ]
  },
  {
   "cell_type": "code",
   "execution_count": null,
   "id": "0a87ce97-4439-4b27-89f3-44d6008d05de",
   "metadata": {},
   "outputs": [],
   "source": []
  }
 ],
 "metadata": {
  "kernelspec": {
   "display_name": "Python 3 (ipykernel)",
   "language": "python",
   "name": "python3"
  },
  "language_info": {
   "codemirror_mode": {
    "name": "ipython",
    "version": 3
   },
   "file_extension": ".py",
   "mimetype": "text/x-python",
   "name": "python",
   "nbconvert_exporter": "python",
   "pygments_lexer": "ipython3",
   "version": "3.11.9"
  }
 },
 "nbformat": 4,
 "nbformat_minor": 5
}
